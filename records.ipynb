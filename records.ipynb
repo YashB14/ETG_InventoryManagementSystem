{
 "cells": [
  {
   "cell_type": "code",
   "execution_count": 3,
   "id": "fe878c26",
   "metadata": {},
   "outputs": [],
   "source": [
    "import json\n",
    "\n",
    "#disc: means discount percentage %\n",
    "records={\n",
    "    1001:{'name':'Maggie','qn':100,'price':10,'Expirydate':'27/12/2023','disc':0},\n",
    "    1002:{'name':'Maggie','qn':200,'price':50,'Expirydate':'27/12/2023','disc':0.1},\n",
    "    1003:{'name':'Maggie','qn':150,'price':80,'Expirydate':'27/12/2023','disc':0.2},\n",
    "    \n",
    "    1004:{'name':'Coke','qn':70,'price':30,'Expirydate':'24/10/2021','disc':0},\n",
    "    1005:{'name':'Coke','qn':80,'price':50,'Expirydate':'27/6/2021','disc':0.1},\n",
    "    1006:{'name':'Coke','qn':300,'price':100,'Expirydate':'27/10/2021','disc':0.15},\n",
    "    \n",
    "    1007:{'name':'DairyMilk','qn':200,'price':5,'Expirydate':'26/12/2022','disc':0},\n",
    "    1008:{'name':'DairyMilk','qn':100,'price':10,'Expirydate':'20/12/2022','disc':0},\n",
    "    1009:{'name':'DairyMilk','qn':100,'price':50,'Expirydate':'26/12/2022','disc':0},\n",
    "    \n",
    "    1010:{'name':'Biscuit','qn':50,'price':10,'Expirydate':'7/01/2022','disc':0.02},\n",
    "    1011:{'name':'Biscuit','qn':80,'price':20,'Expirydate':'6/01/2022','disc':0.05},\n",
    "    1012:{'name':'Biscuit','qn':20,'price':40,'Expirydate':'7/01/2022','disc':0.1},\n",
    "    \n",
    "    1013:{'name':'Pasta','qn':400,'price':50,'Expirydate':'02/2/2023','disc':0},\n",
    "    1014:{'name':'Pasta','qn':300,'price':100,'Expirydate':'07/12/2023','disc':0},\n",
    "    1015:{'name':'Pasta','qn':80,'price':320,'Expirydate':'07/2/2023','disc':0.12},\n",
    "    \n",
    "    1016:{'name':'KitKat','qn':40,'price':40,'Expirydate':'27/12/2021','disc':0},\n",
    "    1017:{'name':'KitKat','qn':100,'price':100,'Expirydate':'27/12/2021','disc':0},\n",
    "    1018:{'name':'KitKat','qn':250,'price':200,'Expirydate':'7/12/2021','disc':0},\n",
    "    \n",
    "    1019:{'name':'Cake','qn':50,'price':500,'Expirydate':'27/12/2023','disc':0.1},\n",
    "    1020:{'name':'Cake','qn':60,'price':1000,'Expirydate':'29/12/2023','disc':0.15},\n",
    "    1021:{'name':'Cake','qn':70,'price':3500,'Expirydate':'27/12/2023','disc':0.25},\n",
    "    \n",
    "    1022:{'name':'Chips','qn':100,'price':10,'Expirydate':'04/12/2022','disc':0},\n",
    "    1023:{'name':'Chips','qn':100,'price':20,'Expirydate':'14/12/2022','disc':0},\n",
    "    1024:{'name':'Chips','qn':100,'price':40,'Expirydate':'24/12/2022','disc':0},\n",
    "    \n",
    "    1025:{'name':'Sauce','qn':50,'price':50,'Expirydate':'17/10/2021','disc':0},\n",
    "    1026:{'name':'Sauce','qn':300,'price':75,'Expirydate':'17/10/2021','disc':0.05},\n",
    "    1027:{'name':'Sauce','qn':90,'price':200,'Expirydate':'17/10/2021','disc':0.1},\n",
    "    \n",
    "    1028:{'name':'Bread','qn':100,'price':25,'Expirydate':'27/12/2021','disc':0},\n",
    "    1029:{'name':'Bread','qn':100,'price':50,'Expirydate':'27/12/2021','disc':0},\n",
    "    1030:{'name':'Bread','qn':100,'price':120,'Expirydate':'27/12/2022','disc':0}\n",
    "}\n",
    "\n",
    "js=json.dumps(records)\n",
    "\n",
    "fd=open(\"records.json\",'w')\n",
    "fd.write(js)\n",
    "fd.close()"
   ]
  },
  {
   "cell_type": "code",
   "execution_count": null,
   "id": "d6689f94",
   "metadata": {},
   "outputs": [],
   "source": []
  }
 ],
 "metadata": {
  "kernelspec": {
   "display_name": "Python 3",
   "language": "python",
   "name": "python3"
  },
  "language_info": {
   "codemirror_mode": {
    "name": "ipython",
    "version": 3
   },
   "file_extension": ".py",
   "mimetype": "text/x-python",
   "name": "python",
   "nbconvert_exporter": "python",
   "pygments_lexer": "ipython3",
   "version": "3.8.8"
  }
 },
 "nbformat": 4,
 "nbformat_minor": 5
}
